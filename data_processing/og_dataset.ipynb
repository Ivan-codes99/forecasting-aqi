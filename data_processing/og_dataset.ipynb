{
 "cells": [
  {
   "cell_type": "markdown",
   "metadata": {},
   "source": [
    "# **CAP 5768: Introduction to Data Science**\n",
    "## Final Project Program: Removing Non-Numeric Values"
   ]
  },
  {
   "cell_type": "code",
   "execution_count": null,
   "metadata": {},
   "outputs": [],
   "source": [
    "import numpy as np\n",
    "import pandas as pd\n",
    "import os"
   ]
  },
  {
   "cell_type": "code",
   "execution_count": null,
   "metadata": {},
   "outputs": [],
   "source": [
    "##file_path = '../../datasets/pollution_us_2000_2016.csv'\n",
    "data = pd.read_csv(r'pollution_us_2000_2016.csv')"
   ]
  },
  {
   "cell_type": "code",
   "execution_count": null,
   "metadata": {},
   "outputs": [],
   "source": [
    "# Display first few rows\n",
    "data.head()"
   ]
  },
  {
   "cell_type": "code",
   "execution_count": null,
   "metadata": {},
   "outputs": [],
   "source": [
    "# Display features\n",
    "data.columns"
   ]
  },
  {
   "cell_type": "code",
   "execution_count": null,
   "metadata": {},
   "outputs": [],
   "source": [
    "# Drop Non-Numeric Features\n",
    "columns_to_drop = ['Unnamed: 0', 'Date Local', 'State Code', 'County Code', 'Site Num', 'Address',\n",
    "    'State', 'County', 'City', 'NO2 Units', 'O3 Units', 'SO2 Units', 'CO Units']\n",
    "\n",
    "filtered_data = data.drop(columns = columns_to_drop)"
   ]
  },
  {
   "cell_type": "code",
   "execution_count": null,
   "metadata": {},
   "outputs": [],
   "source": [
    "# Display remaining features\n",
    "filtered_data.columns"
   ]
  },
  {
   "cell_type": "code",
   "execution_count": null,
   "metadata": {},
   "outputs": [],
   "source": [
    "# Display new first few samples\n",
    "filtered_data.head()"
   ]
  },
  {
   "cell_type": "code",
   "execution_count": null,
   "metadata": {},
   "outputs": [],
   "source": [
    "# Making new csv with only these columns\n",
    "file_path = os.path.join(os.getcwd(), 'filtered_pollution_us_2000_2016.csv')\n",
    "filtered_data.to_csv(file_path, index=False)"
   ]
  },
  {
   "cell_type": "markdown",
   "metadata": {},
   "source": [
    "# Seperating Numeric and Non-Numeric Data\n",
    "* We retain the original dataset for potential future feature engineering involving non-numeric attributes like time or area, we have saved the processed numeric data in a separate file. This approach ensures that we can revisit the original features for alternative machine learning implementations, such as time-based or area-based analyses, should resources allow."
   ]
  }
 ],
 "metadata": {
  "kernelspec": {
   "display_name": "base",
   "language": "python",
   "name": "python3"
  },
  "language_info": {
   "codemirror_mode": {
    "name": "ipython",
    "version": 3
   },
   "file_extension": ".py",
   "mimetype": "text/x-python",
   "name": "python",
   "nbconvert_exporter": "python",
   "pygments_lexer": "ipython3",
   "version": "3.12.4"
  }
 },
 "nbformat": 4,
 "nbformat_minor": 2
}
